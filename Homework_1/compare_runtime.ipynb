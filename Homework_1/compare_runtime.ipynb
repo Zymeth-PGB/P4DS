{
 "cells": [
  {
   "cell_type": "markdown",
   "metadata": {},
   "source": [
    "# **_<span style = \"color:pink\">HOMEWORK 1</span>_**"
   ]
  },
  {
   "cell_type": "markdown",
   "metadata": {},
   "source": [
    "- **_ID : 21120042_**\n",
    "- **_Fullname : Phan Gia Bảo_**"
   ]
  },
  {
   "cell_type": "markdown",
   "metadata": {},
   "source": [
    "## **_<span style = \"color:#FF66FF\">ASSIGNMENT</span>_**\n",
    "- Compare runtime of matrix multiplication program with: C, Python, numpy."
   ]
  },
  {
   "cell_type": "markdown",
   "metadata": {},
   "source": [
    "## **_<span style = \"color:#FF66FF\">ENVIRONMENT</span>_**\n",
    "- Python 3.11.4\n",
    "- Requirement Library\n",
    "  - numpy==1.26.0\n",
    "  - jupyter-c-kernel==1.2.2"
   ]
  },
  {
   "cell_type": "markdown",
   "metadata": {},
   "source": [
    "### Library Used In Python"
   ]
  },
  {
   "cell_type": "code",
   "execution_count": 278,
   "metadata": {},
   "outputs": [],
   "source": [
    "import numpy as np\n",
    "import random as rd\n",
    "import time as t"
   ]
  },
  {
   "cell_type": "markdown",
   "metadata": {},
   "source": [
    "### Generate Random Matrix "
   ]
  },
  {
   "cell_type": "code",
   "execution_count": 279,
   "metadata": {},
   "outputs": [],
   "source": [
    "f = open(\"generate_matrix.txt\", \"w+\")\n",
    "\n",
    "# Random size of square matrix\n",
    "n = rd.randint(100, 300)\n",
    "f.write(\"%d\\n\" % n)\n",
    "\n",
    "# Generate matrix A and B with value in range -10 -> 10\n",
    "matrix1 = np.random.randint(-10, 10, size = (n, n))\n",
    "for i in range(n):\n",
    "    for j in range(n):\n",
    "        f.write(\"%d \" % matrix1[i][j])\n",
    "        \n",
    "f.write(\"\\n\")\n",
    "        \n",
    "matrix2 = np.random.randint(-10, 10, size = (n, n))\n",
    "for i in range(n):\n",
    "    for j in range(n):\n",
    "        f.write(\"%d \" % matrix2[i][j])\n",
    "\n",
    "f.close()"
   ]
  },
  {
   "cell_type": "markdown",
   "metadata": {},
   "source": [
    "### Python Numpy Code"
   ]
  },
  {
   "cell_type": "code",
   "execution_count": 280,
   "metadata": {},
   "outputs": [
    {
     "name": "stdout",
     "output_type": "stream",
     "text": [
      "0.0019974709\n"
     ]
    }
   ],
   "source": [
    "# Record start time\n",
    "start = t.time()\n",
    "\n",
    "# Multiplication matrix\n",
    "matrix = np.matmul(matrix1, matrix2)\n",
    "\n",
    "# Record end time\n",
    "end = t.time()\n",
    "\n",
    "# Calculate runtime of function multiply two matrix\n",
    "runtime_numpy = (end - start)\n",
    "print(\"{0:.10f}\".format(runtime_numpy))"
   ]
  },
  {
   "cell_type": "markdown",
   "metadata": {},
   "source": [
    "### Python Code"
   ]
  },
  {
   "cell_type": "code",
   "execution_count": 281,
   "metadata": {},
   "outputs": [
    {
     "name": "stdout",
     "output_type": "stream",
     "text": [
      "0.4810707569\n"
     ]
    }
   ],
   "source": [
    "def mul_matrix(n, m1, m2):\n",
    "    m = []\n",
    "    \n",
    "    for i in range(n):\n",
    "        m.append([])\n",
    "        for j in range(n):\n",
    "            m[i].append(0)\n",
    "            \n",
    "    i, h = 0, 0\n",
    "    \n",
    "    while i != n:\n",
    "        temp = 0\n",
    "        for j in range(n):\n",
    "            temp += m1[i][j] * m2[j][h]        \n",
    "        m[i][h] = temp\n",
    "        h += 1\n",
    "        if h == n:\n",
    "            i += 1\n",
    "            h = 0\n",
    "    \n",
    "    return m\n",
    "\n",
    "# Record start time\n",
    "start = t.time()\n",
    "\n",
    "# Multiplication matrix\n",
    "matrix = mul_matrix(n, matrix1, matrix2)\n",
    "\n",
    "# Record end time\n",
    "end = t.time()\n",
    "\n",
    "# Calculate runtime of function multiply two matrix\n",
    "runtime = (end - start)\n",
    "print(\"{0:.10f}\".format(runtime))"
   ]
  },
  {
   "cell_type": "markdown",
   "metadata": {},
   "source": [
    "### C Code"
   ]
  },
  {
   "cell_type": "code",
   "execution_count": 282,
   "metadata": {},
   "outputs": [
    {
     "name": "stdout",
     "output_type": "stream",
     "text": [
      "Overwriting matrix.c\n"
     ]
    }
   ],
   "source": [
    "%%file matrix.c\n",
    "#include <stdio.h>\n",
    "#include <time.h>\n",
    "#include <stdlib.h>\n",
    "\n",
    "// Multiply two matrix\n",
    "void mul_matrix(int n, long long matrix1[][n], long long matrix2[][n], long long matrix[][n]) {\n",
    "    for(int i = 0; i < n; ++i) {\n",
    "        for(int j = 0; j < n; ++j) {\n",
    "            matrix[i][j] = 0;\n",
    "        }\n",
    "    }\n",
    "\n",
    "    int i = 0, h = 0;\n",
    "\n",
    "    while(i != n) {\n",
    "        int temp = 0;\n",
    "        for(int j = 0; j < n; ++j) {\n",
    "            temp += matrix1[i][j] * matrix2[j][h];\n",
    "        }\n",
    "        matrix[i][h] = temp;\n",
    "        h++;\n",
    "        if(h == n) {\n",
    "            h = 0;\n",
    "            i++;\n",
    "        }\n",
    "    }\n",
    "}\n",
    "\n",
    "double solve() {\n",
    "    FILE *fp = NULL;\n",
    "\n",
    "    // Open file \n",
    "    fp = fopen(\"generate_matrix.txt\", \"r\");\n",
    "\n",
    "    // Read size of matrix\n",
    "    int n;\n",
    "    fscanf(fp, \"%d\\n\", &n);\n",
    "\n",
    "    long long matrix1[n][n], matrix2[n][n], matrix[n][n];\n",
    "\n",
    "    // Read matrix A\n",
    "    for(int i = 0; i < n; ++i) {\n",
    "        for(int j = 0; j < n; ++j) {\n",
    "            fscanf(fp, \"%d \", &matrix1[i][j]);\n",
    "        }\n",
    "    }\n",
    "    \n",
    "    // Read matrix B\n",
    "    for(int i = 0; i < n; ++i) {\n",
    "        for(int j = 0; j < n; ++j) {\n",
    "            fscanf(fp, \"%d \", &matrix2[i][j]);\n",
    "        }\n",
    "    }\n",
    "\n",
    "    clock_t start, end;\n",
    "    // Record start time\n",
    "    start = clock();\n",
    "\n",
    "    mul_matrix(n, matrix1, matrix2, matrix);\n",
    "\n",
    "    // Record end time\n",
    "    end = clock();\n",
    "\n",
    "    // Calculate runtime of function multiply two matrix\n",
    "    double duration = ((double)end - start) / ((double)CLOCKS_PER_SEC);\n",
    "\n",
    "    fclose(fp);\n",
    "    \n",
    "    return duration;\n",
    "}\n",
    "\n",
    "int main() {\n",
    "\n",
    "    double duration = solve();\n",
    "    \n",
    "    printf(\"%0.10f\", duration);\n",
    "\n",
    "    return 0;\n",
    "}"
   ]
  },
  {
   "cell_type": "code",
   "execution_count": 283,
   "metadata": {},
   "outputs": [
    {
     "name": "stdout",
     "output_type": "stream",
     "text": [
      "Microsoft Windows [Version 10.0.22621.2283]\n",
      "(c) Microsoft Corporation. All rights reserved.\n",
      "\n",
      "(venv) d:\\University\\P4DS\\Homework_1>gcc matrix.c -g -o matrix\n"
     ]
    },
    {
     "name": "stdout",
     "output_type": "stream",
     "text": [
      "\n",
      "(venv) d:\\University\\P4DS\\Homework_1>del \"result.txt\"\n",
      "\n",
      "(venv) d:\\University\\P4DS\\Homework_1>.\\matrix >> result.txt\n",
      "\n",
      "(venv) d:\\University\\P4DS\\Homework_1>"
     ]
    }
   ],
   "source": [
    "%%cmd\n",
    "gcc matrix.c -g -o matrix\n",
    "del \"result.txt\"\n",
    ".\\matrix >> result.txt"
   ]
  },
  {
   "cell_type": "markdown",
   "metadata": {},
   "source": [
    "### Compare Runtime"
   ]
  },
  {
   "cell_type": "code",
   "execution_count": 284,
   "metadata": {},
   "outputs": [
    {
     "name": "stdout",
     "output_type": "stream",
     "text": [
      "The result is: Numpy > C > Python\n",
      "Conclusion Numpy is the fastest\n"
     ]
    }
   ],
   "source": [
    "# Open file to read\n",
    "res = open(\"result.txt\", \"r+\")\n",
    "\n",
    "# Read file and clean file\n",
    "runtime_c = res.read()\n",
    "\n",
    "# Close file\n",
    "res.close()\n",
    "\n",
    "runtime_c = float(runtime_c)\n",
    "\n",
    "compare = {}\n",
    "\n",
    "compare.update({\"C\": runtime_c, \"Python\": runtime, \"Numpy\": runtime_numpy})\n",
    "\n",
    "compare = dict(sorted(compare.items(), key = lambda item : item[1]))\n",
    "\n",
    "last_key = list(compare)[-1]\n",
    "\n",
    "print(\"The result is: \", end = \"\")\n",
    "\n",
    "for i in compare:\n",
    "    if last_key == i:\n",
    "        print(i)    \n",
    "    else: \n",
    "        print(i, \"> \", end = \"\")\n",
    "        \n",
    "print(\"Conclusion {} is the fastest\".format(list(compare)[0]))"
   ]
  }
 ],
 "metadata": {
  "kernelspec": {
   "display_name": "venv",
   "language": "python",
   "name": "python3"
  },
  "language_info": {
   "codemirror_mode": {
    "name": "ipython",
    "version": 3
   },
   "file_extension": ".py",
   "mimetype": "text/x-python",
   "name": "python",
   "nbconvert_exporter": "python",
   "pygments_lexer": "ipython3",
   "version": "3.11.4"
  }
 },
 "nbformat": 4,
 "nbformat_minor": 2
}
